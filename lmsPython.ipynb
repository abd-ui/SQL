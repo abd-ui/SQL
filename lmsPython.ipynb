{
    "metadata": {
        "kernelspec": {
            "name": "python3",
            "display_name": "Python 3 (ipykernel)",
            "language": "python"
        },
        "language_info": {
            "name": "python",
            "version": "3.11.2",
            "mimetype": "text/x-python",
            "codemirror_mode": {
                "name": "ipython",
                "version": 3
            },
            "pygments_lexer": "ipython3",
            "nbconvert_exporter": "python",
            "file_extension": ".py"
        }
    },
    "nbformat_minor": 2,
    "nbformat": 4,
    "cells": [
        {
            "cell_type": "code",
            "source": [
                "import pyodbc\n",
                "\n",
                "server = 'localhost'\n",
                "database = 'LeagueManageSystem'\n",
                "username = 'SA'\n",
                "password = 'Abdu420?'\n",
                "\n",
                "conn = pyodbc.connect(\n",
                "    'DRIVER={ODBC Driver 17 for SQL Server};SERVER=' + server + ';DATABASE=' + database + ';UID=' + username + ';PWD=' + password)\n",
                "cursor = conn.cursor()\n",
                "cursor.execute(\"SELECT * FROM player\")\n",
                "for row in cursor:\n",
                "    print(row)\n",
                "conn.close()"
            ],
            "metadata": {
                "azdata_cell_guid": "5557a525-94ae-47e8-b61c-472024867a1d",
                "language": "python",
                "tags": [
                    "hide_input"
                ]
            },
            "outputs": [
{
    "name": "stdout",
    "text": "('Benzema', 'Karim Benzema', 34, 'France', 'RM3', Decimal('4000000.00'), 25)\n('CR7', 'Cristiano Ronaldo', 37, 'Portugal', 'MU1', Decimal('5000000.00'), 20)\n('Haaland', 'Erling Haaland', 21, 'Norway', 'MC2', Decimal('5000000.00'), 30)\n('KDB', 'Kevin De Bruyne', 31, 'Belgium', 'MC2', Decimal('4500000.00'), 25)\n('LM10', 'Lionel Messi', 35, 'Argentina', 'AR2', Decimal('4000000.00'), 30)\n('Mane', 'Sadio Mane', 30, 'Senegal', 'MC2', Decimal('4000000.00'), 20)\n('MBappe', 'Kylian Mbappe', 23, 'France', 'PSG1', Decimal('4500000.00'), 25)\n('Modric', 'Luka Modric', 37, 'Croatia', 'RM3', Decimal('3500000.00'), 15)\n('NJR', 'Neymar', 30, 'Brazil', 'CH3', Decimal('3000000.00'), 25)\n('Salah', 'Mohamed Salah', 29, 'Egypt', 'MC2', Decimal('4000000.00'), 20)\n",
    "output_type": "stream"
}
],
            "execution_count": 16
        },
        {
            "cell_type": "code",
            "source": [
                "import pyodbc\n",
                "\n",
                "def insert_data_into_table(table, values):\n",
                "    try:\n",
                "\n",
                "        conn = pyodbc.connect(\n",
                "        'DRIVER={ODBC Driver 17 for SQL Server};SERVER=' + 'localhost' + ';DATABASE=' + 'LeagueManageSystem' + ';UID=' + 'SA' + ';PWD=' + 'Abdu420?')\n",
                "\n",
                "        # Create a cursor object to interact with the database\n",
                "        cursor = conn.cursor()\n",
                "\n",
                "        \n",
                "        # Create a parameterized query for the insert statement\n",
                "        placeholder = ','.join(['?' for _ in values])\n",
                "        query = f\"INSERT INTO {table} VALUES ({placeholder})\"\n",
                "\n",
                "        # Execute the query with the provided values as parameters\n",
                "        cursor.execute(query, values)\n",
                "\n",
                "        # Commit the transaction to save the changes\n",
                "        conn.commit()\n",
                "\n",
                "        print(\"Data inserted successfully.\")\n",
                "        \n",
                "    except pyodbc.Error as e:\n",
                "        # Handle any errors that occurred during the insertion process\n",
                "        print(\"Error occurred:\", e)\n",
                "\n",
                "    finally:\n",
                "        # Close the cursor and connection\n",
                "        cursor.close()\n",
                "        conn.close()\n",
                "\n",
                "player_data = ['P002','John Doe', 25,'USA','RM3',100000.00, 10]\n",
                "\n",
                "\n",
                "insert_data_into_table('player',player_data)\n",
                ""
            ],
            "metadata": {
                "azdata_cell_guid": "7472f35a-a308-410a-9dc3-a7ee65885e7a",
                "language": "python"
            },
            "outputs": [
                {
                    "name": "stdout",
                    "text": "Data inserted successfully.\n",
                    "output_type": "stream"
                }
            ],
            "execution_count": 8
        },
        {
            "cell_type": "code",
            "source": [
                "\n",
                "def delete_data_from_table(table, column,data):\n",
                "    try:\n",
                "\n",
                "        conn = pyodbc.connect(\n",
                "        'DRIVER={ODBC Driver 17 for SQL Server};SERVER=' + 'localhost' + ';DATABASE=' + 'LeagueManageSystem' + ';UID=' + 'SA' + ';PWD=' + 'Abdu420?')\n",
                "\n",
                "        # Create a cursor object to interact with the database\n",
                "        cursor = conn.cursor()\n",
                "\n",
                "        \n",
                "        query = f\"DELETE FROM {table} WHERE ({column} = {data})\"\n",
                "\n",
                "        # Execute the query with the provided values as parameters\n",
                "        cursor.execute(query)\n",
                "\n",
                "        # Commit the transaction to save the changes\n",
                "        conn.commit()\n",
                "\n",
                "        print(\"Data deleted successfully.\")\n",
                "        \n",
                "    except pyodbc.Error as e:\n",
                "        # Handle any errors that occurred during the insertion process\n",
                "        print(\"Error occurred:\", e)\n",
                "\n",
                "    finally:\n",
                "        # Close the cursor and connection\n",
                "        cursor.close()\n",
                "        conn.close()\n",
                "table_name = input(\"table name: \")\n",
                "column = input(\"column: \")\n",
                "data = input(f\"where {column} = \")\n",
                "\n",
                "delete_data_from_table(table_name,column,f\"'{data}'\")"
            ],
            "metadata": {
                "azdata_cell_guid": "b1bb3690-e753-4c8b-9e20-207920a5c3ff",
                "language": "python",
                "tags": []
            },
            "outputs": [
                {
                    "name": "stdout",
                    "text": "Data deleted successfully.\n",
                    "output_type": "stream"
                }
            ],
            "execution_count": 15
        }
    ]
}